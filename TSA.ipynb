{
 "cells": [
  {
   "cell_type": "code",
   "execution_count": null,
   "id": "0b291f62-4d55-4870-b083-ac45768b7a9f",
   "metadata": {},
   "outputs": [],
   "source": []
  },
  {
   "cell_type": "code",
   "execution_count": 10,
   "id": "618ca6d1-0100-4940-a8cc-a05670476766",
   "metadata": {},
   "outputs": [
    {
     "name": "stdout",
     "output_type": "stream",
     "text": [
      "dict_keys(['Twitter_volume_AAPL', 'Twitter_volume_AMZN', 'Twitter_volume_CRM'])\n",
      "Data for Twitter_volume_AAPL:\n",
      "             timestamp  value\n",
      "0  2015-02-26 21:42:53    104\n",
      "1  2015-02-26 21:47:53    100\n",
      "2  2015-02-26 21:52:53     99\n",
      "3  2015-02-26 21:57:53    154\n",
      "4  2015-02-26 22:02:53    120\n",
      "\n",
      "\n",
      "Data for Twitter_volume_AMZN:\n",
      "             timestamp  value\n",
      "0  2015-02-26 21:42:53     57\n",
      "1  2015-02-26 21:47:53     43\n",
      "2  2015-02-26 21:52:53     55\n",
      "3  2015-02-26 21:57:53     64\n",
      "4  2015-02-26 22:02:53     93\n",
      "\n",
      "\n",
      "Data for Twitter_volume_CRM:\n",
      "             timestamp  value\n",
      "0  2015-02-26 21:42:53     11\n",
      "1  2015-02-26 21:47:53     10\n",
      "2  2015-02-26 21:52:53      3\n",
      "3  2015-02-26 21:57:53      4\n",
      "4  2015-02-26 22:02:53      9\n",
      "\n",
      "\n"
     ]
    }
   ],
   "source": [
    "import pandas as pd\n",
    "\n",
    "# List of additional uploaded file paths and their respective company names\n",
    "file_paths = {\n",
    "    'Twitter_volume_AAPL': '/Users/rohithvs/Desktop/realTweets/realTweets/Twitter_volume_AAPL.csv',\n",
    "    'Twitter_volume_AMZN': '/Users/rohithvs/Desktop/realTweets/realTweets/Twitter_volume_AMZN.csv',\n",
    "    'Twitter_volume_CRM': '/Users/rohithvs/Desktop/realTweets/realTweets/Twitter_volume_CRM.csv'\n",
    "}\n",
    "\n",
    "# Load each file into a DataFrame and store them in a dictionary\n",
    "company_dataframes = {company: pd.read_csv(path) for company, path in file_paths.items()}\n",
    "\n",
    "# Display the keys of the dictionary to confirm\n",
    "print(company_dataframes.keys())\n",
    "\n",
    "# Optionally, display a sample of each DataFrame\n",
    "for company, df in company_dataframes.items():\n",
    "    print(f\"Data for {company}:\")\n",
    "    print(df.head())\n",
    "    print(\"\\n\")\n"
   ]
  }
 ],
 "metadata": {
  "kernelspec": {
   "display_name": "Python 3 (ipykernel)",
   "language": "python",
   "name": "python3"
  },
  "language_info": {
   "codemirror_mode": {
    "name": "ipython",
    "version": 3
   },
   "file_extension": ".py",
   "mimetype": "text/x-python",
   "name": "python",
   "nbconvert_exporter": "python",
   "pygments_lexer": "ipython3",
   "version": "3.11.8"
  }
 },
 "nbformat": 4,
 "nbformat_minor": 5
}
